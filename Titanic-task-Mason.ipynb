{
 "cells": [
  {
   "cell_type": "markdown",
   "id": "dc74c816",
   "metadata": {},
   "source": [
    "# ML task: Lara Mason"
   ]
  },
  {
   "cell_type": "markdown",
   "id": "7cb3f476",
   "metadata": {},
   "source": [
    "In the following, we'll examine the Titanic survival dataset. \n"
   ]
  },
  {
   "cell_type": "markdown",
   "id": "e2cc1dcd",
   "metadata": {},
   "source": [
    "# Data investigation and cleaning"
   ]
  },
  {
   "cell_type": "code",
   "execution_count": 1,
   "id": "37db86eb",
   "metadata": {},
   "outputs": [
    {
     "name": "stdout",
     "output_type": "stream",
     "text": [
      "Survived,Pclass,Name,Sex,Age,Siblings/Spouses Aboard,Parents/Children Aboard,Fare\r\n",
      "0,3 pclass,Mr. Owen Harris Braund,male,22.0,1,0,7.25\r\n",
      "1,1 pclass,Mrs. John Bradley (Florence Briggs Thayer) Cumings,female,38.0,1,0,71.2833\r\n",
      "1,3 pclass,Miss. Laina Heikkinen,female,26.0,0,0,7.925\r\n",
      "1,1 pcl,Mrs. Jacques Heath (Lily May Peel) Futrelle,,35.0,1,0,53.1\r\n",
      "0,3 pclass,Mr. William Henry Allen,male,35.0,0,0,8.05\r\n",
      "0,3 pclass,Mr. James Moran,male,27.0,0,0,8.4583\r\n",
      "0,1-pclas,Mr. Timothy J McCarthy,male,54.0,0,0,51.8625\r\n",
      "0,3-pclass,Master. Gosta Leonard Palsson,male,2.0,3,1,21.075\r\n",
      "1,3-pclass,Mrs. Oscar W (Elisabeth Vilhelmina Berg) Johnson,female,27.0,0,2,11.1333\r\n"
     ]
    }
   ],
   "source": [
    "#Let's take a look at the data in the dataset, which is downloaded locally from google drive:\n",
    "!head titanic.csv"
   ]
  },
  {
   "cell_type": "markdown",
   "id": "addac711",
   "metadata": {},
   "source": [
    "Using pandas to read in the data:"
   ]
  },
  {
   "cell_type": "code",
   "execution_count": 2,
   "id": "40bc1df7",
   "metadata": {},
   "outputs": [],
   "source": [
    "#using the pandas tool\n",
    "import pandas as pd\n",
    "data = pd.read_csv(\"titanic.csv\")"
   ]
  },
  {
   "cell_type": "markdown",
   "id": "8ccbffb7",
   "metadata": {},
   "source": [
    "Let's examine some of the data by looking at the first twenty rows:"
   ]
  },
  {
   "cell_type": "code",
   "execution_count": 3,
   "id": "d76dd161",
   "metadata": {},
   "outputs": [
    {
     "data": {
      "text/html": [
       "<div>\n",
       "<style scoped>\n",
       "    .dataframe tbody tr th:only-of-type {\n",
       "        vertical-align: middle;\n",
       "    }\n",
       "\n",
       "    .dataframe tbody tr th {\n",
       "        vertical-align: top;\n",
       "    }\n",
       "\n",
       "    .dataframe thead th {\n",
       "        text-align: right;\n",
       "    }\n",
       "</style>\n",
       "<table border=\"1\" class=\"dataframe\">\n",
       "  <thead>\n",
       "    <tr style=\"text-align: right;\">\n",
       "      <th></th>\n",
       "      <th>Survived</th>\n",
       "      <th>Pclass</th>\n",
       "      <th>Name</th>\n",
       "      <th>Sex</th>\n",
       "      <th>Age</th>\n",
       "      <th>Siblings/Spouses Aboard</th>\n",
       "      <th>Parents/Children Aboard</th>\n",
       "      <th>Fare</th>\n",
       "    </tr>\n",
       "  </thead>\n",
       "  <tbody>\n",
       "    <tr>\n",
       "      <th>0</th>\n",
       "      <td>0</td>\n",
       "      <td>3 pclass</td>\n",
       "      <td>Mr. Owen Harris Braund</td>\n",
       "      <td>male</td>\n",
       "      <td>22.0</td>\n",
       "      <td>1</td>\n",
       "      <td>0</td>\n",
       "      <td>7.2500</td>\n",
       "    </tr>\n",
       "    <tr>\n",
       "      <th>1</th>\n",
       "      <td>1</td>\n",
       "      <td>1 pclass</td>\n",
       "      <td>Mrs. John Bradley (Florence Briggs Thayer) Cum...</td>\n",
       "      <td>female</td>\n",
       "      <td>38.0</td>\n",
       "      <td>1</td>\n",
       "      <td>0</td>\n",
       "      <td>71.2833</td>\n",
       "    </tr>\n",
       "    <tr>\n",
       "      <th>2</th>\n",
       "      <td>1</td>\n",
       "      <td>3 pclass</td>\n",
       "      <td>Miss. Laina Heikkinen</td>\n",
       "      <td>female</td>\n",
       "      <td>26.0</td>\n",
       "      <td>0</td>\n",
       "      <td>0</td>\n",
       "      <td>7.9250</td>\n",
       "    </tr>\n",
       "    <tr>\n",
       "      <th>3</th>\n",
       "      <td>1</td>\n",
       "      <td>1 pcl</td>\n",
       "      <td>Mrs. Jacques Heath (Lily May Peel) Futrelle</td>\n",
       "      <td>NaN</td>\n",
       "      <td>35.0</td>\n",
       "      <td>1</td>\n",
       "      <td>0</td>\n",
       "      <td>53.1000</td>\n",
       "    </tr>\n",
       "    <tr>\n",
       "      <th>4</th>\n",
       "      <td>0</td>\n",
       "      <td>3 pclass</td>\n",
       "      <td>Mr. William Henry Allen</td>\n",
       "      <td>male</td>\n",
       "      <td>35.0</td>\n",
       "      <td>0</td>\n",
       "      <td>0</td>\n",
       "      <td>8.0500</td>\n",
       "    </tr>\n",
       "    <tr>\n",
       "      <th>5</th>\n",
       "      <td>0</td>\n",
       "      <td>3 pclass</td>\n",
       "      <td>Mr. James Moran</td>\n",
       "      <td>male</td>\n",
       "      <td>27.0</td>\n",
       "      <td>0</td>\n",
       "      <td>0</td>\n",
       "      <td>8.4583</td>\n",
       "    </tr>\n",
       "    <tr>\n",
       "      <th>6</th>\n",
       "      <td>0</td>\n",
       "      <td>1-pclas</td>\n",
       "      <td>Mr. Timothy J McCarthy</td>\n",
       "      <td>male</td>\n",
       "      <td>54.0</td>\n",
       "      <td>0</td>\n",
       "      <td>0</td>\n",
       "      <td>51.8625</td>\n",
       "    </tr>\n",
       "    <tr>\n",
       "      <th>7</th>\n",
       "      <td>0</td>\n",
       "      <td>3-pclass</td>\n",
       "      <td>Master. Gosta Leonard Palsson</td>\n",
       "      <td>male</td>\n",
       "      <td>2.0</td>\n",
       "      <td>3</td>\n",
       "      <td>1</td>\n",
       "      <td>21.0750</td>\n",
       "    </tr>\n",
       "    <tr>\n",
       "      <th>8</th>\n",
       "      <td>1</td>\n",
       "      <td>3-pclass</td>\n",
       "      <td>Mrs. Oscar W (Elisabeth Vilhelmina Berg) Johnson</td>\n",
       "      <td>female</td>\n",
       "      <td>27.0</td>\n",
       "      <td>0</td>\n",
       "      <td>2</td>\n",
       "      <td>11.1333</td>\n",
       "    </tr>\n",
       "    <tr>\n",
       "      <th>9</th>\n",
       "      <td>1</td>\n",
       "      <td>2-pclass</td>\n",
       "      <td>Mrs. Nicholas (Adele Achem) Nasser</td>\n",
       "      <td>female</td>\n",
       "      <td>14.0</td>\n",
       "      <td>1</td>\n",
       "      <td>0</td>\n",
       "      <td>30.0708</td>\n",
       "    </tr>\n",
       "    <tr>\n",
       "      <th>10</th>\n",
       "      <td>1</td>\n",
       "      <td>3 pclass</td>\n",
       "      <td>Miss. Marguerite Rut Sandstrom</td>\n",
       "      <td>female</td>\n",
       "      <td>4.0</td>\n",
       "      <td>1</td>\n",
       "      <td>1</td>\n",
       "      <td>16.7000</td>\n",
       "    </tr>\n",
       "    <tr>\n",
       "      <th>11</th>\n",
       "      <td>1</td>\n",
       "      <td>1-pclass</td>\n",
       "      <td>Miss. Elizabeth Bonnell</td>\n",
       "      <td>female</td>\n",
       "      <td>58.0</td>\n",
       "      <td>0</td>\n",
       "      <td>0</td>\n",
       "      <td>26.5500</td>\n",
       "    </tr>\n",
       "    <tr>\n",
       "      <th>12</th>\n",
       "      <td>0</td>\n",
       "      <td>3 pclass</td>\n",
       "      <td>Mr. William Henry Saundercock</td>\n",
       "      <td>male</td>\n",
       "      <td>20.0</td>\n",
       "      <td>0</td>\n",
       "      <td>0</td>\n",
       "      <td>8.0500</td>\n",
       "    </tr>\n",
       "    <tr>\n",
       "      <th>13</th>\n",
       "      <td>0</td>\n",
       "      <td>3-pclass</td>\n",
       "      <td>Mr. Anders Johan Andersson</td>\n",
       "      <td>male</td>\n",
       "      <td>-39.0</td>\n",
       "      <td>1</td>\n",
       "      <td>5</td>\n",
       "      <td>31.2750</td>\n",
       "    </tr>\n",
       "    <tr>\n",
       "      <th>14</th>\n",
       "      <td>0</td>\n",
       "      <td>3-pclass</td>\n",
       "      <td>Miss. Hulda Amanda Adolfina Vestrom</td>\n",
       "      <td>female</td>\n",
       "      <td>14.0</td>\n",
       "      <td>0</td>\n",
       "      <td>0</td>\n",
       "      <td>7.8542</td>\n",
       "    </tr>\n",
       "    <tr>\n",
       "      <th>15</th>\n",
       "      <td>1</td>\n",
       "      <td>2 pcl</td>\n",
       "      <td>Mrs. (Mary D Kingcome) Hewlett</td>\n",
       "      <td>NaN</td>\n",
       "      <td>55.0</td>\n",
       "      <td>0</td>\n",
       "      <td>0</td>\n",
       "      <td>16.0000</td>\n",
       "    </tr>\n",
       "    <tr>\n",
       "      <th>16</th>\n",
       "      <td>0</td>\n",
       "      <td>3 pclass</td>\n",
       "      <td>Master. Eugene Rice</td>\n",
       "      <td>male</td>\n",
       "      <td>2.0</td>\n",
       "      <td>4</td>\n",
       "      <td>1</td>\n",
       "      <td>29.1250</td>\n",
       "    </tr>\n",
       "    <tr>\n",
       "      <th>17</th>\n",
       "      <td>1</td>\n",
       "      <td>2-pclass</td>\n",
       "      <td>Mr. Charles Eugene Williams</td>\n",
       "      <td>male</td>\n",
       "      <td>23.0</td>\n",
       "      <td>0</td>\n",
       "      <td>0</td>\n",
       "      <td>13.0000</td>\n",
       "    </tr>\n",
       "    <tr>\n",
       "      <th>18</th>\n",
       "      <td>0</td>\n",
       "      <td>3 pclass</td>\n",
       "      <td>Mrs. Julius (Emelia Maria Vandemoortele) Vande...</td>\n",
       "      <td>female</td>\n",
       "      <td>31.0</td>\n",
       "      <td>1</td>\n",
       "      <td>0</td>\n",
       "      <td>18.0000</td>\n",
       "    </tr>\n",
       "    <tr>\n",
       "      <th>19</th>\n",
       "      <td>1</td>\n",
       "      <td>3 pclass</td>\n",
       "      <td>Mrs. Fatima Masselmani</td>\n",
       "      <td>female</td>\n",
       "      <td>22.0</td>\n",
       "      <td>0</td>\n",
       "      <td>0</td>\n",
       "      <td>7.2250</td>\n",
       "    </tr>\n",
       "  </tbody>\n",
       "</table>\n",
       "</div>"
      ],
      "text/plain": [
       "    Survived    Pclass                                               Name  \\\n",
       "0          0  3 pclass                             Mr. Owen Harris Braund   \n",
       "1          1  1 pclass  Mrs. John Bradley (Florence Briggs Thayer) Cum...   \n",
       "2          1  3 pclass                              Miss. Laina Heikkinen   \n",
       "3          1     1 pcl        Mrs. Jacques Heath (Lily May Peel) Futrelle   \n",
       "4          0  3 pclass                            Mr. William Henry Allen   \n",
       "5          0  3 pclass                                    Mr. James Moran   \n",
       "6          0   1-pclas                             Mr. Timothy J McCarthy   \n",
       "7          0  3-pclass                      Master. Gosta Leonard Palsson   \n",
       "8          1  3-pclass   Mrs. Oscar W (Elisabeth Vilhelmina Berg) Johnson   \n",
       "9          1  2-pclass                 Mrs. Nicholas (Adele Achem) Nasser   \n",
       "10         1  3 pclass                     Miss. Marguerite Rut Sandstrom   \n",
       "11         1  1-pclass                            Miss. Elizabeth Bonnell   \n",
       "12         0  3 pclass                      Mr. William Henry Saundercock   \n",
       "13         0  3-pclass                         Mr. Anders Johan Andersson   \n",
       "14         0  3-pclass                Miss. Hulda Amanda Adolfina Vestrom   \n",
       "15         1     2 pcl                     Mrs. (Mary D Kingcome) Hewlett   \n",
       "16         0  3 pclass                                Master. Eugene Rice   \n",
       "17         1  2-pclass                        Mr. Charles Eugene Williams   \n",
       "18         0  3 pclass  Mrs. Julius (Emelia Maria Vandemoortele) Vande...   \n",
       "19         1  3 pclass                             Mrs. Fatima Masselmani   \n",
       "\n",
       "       Sex   Age  Siblings/Spouses Aboard  Parents/Children Aboard     Fare  \n",
       "0     male  22.0                        1                        0   7.2500  \n",
       "1   female  38.0                        1                        0  71.2833  \n",
       "2   female  26.0                        0                        0   7.9250  \n",
       "3      NaN  35.0                        1                        0  53.1000  \n",
       "4     male  35.0                        0                        0   8.0500  \n",
       "5     male  27.0                        0                        0   8.4583  \n",
       "6     male  54.0                        0                        0  51.8625  \n",
       "7     male   2.0                        3                        1  21.0750  \n",
       "8   female  27.0                        0                        2  11.1333  \n",
       "9   female  14.0                        1                        0  30.0708  \n",
       "10  female   4.0                        1                        1  16.7000  \n",
       "11  female  58.0                        0                        0  26.5500  \n",
       "12    male  20.0                        0                        0   8.0500  \n",
       "13    male -39.0                        1                        5  31.2750  \n",
       "14  female  14.0                        0                        0   7.8542  \n",
       "15     NaN  55.0                        0                        0  16.0000  \n",
       "16    male   2.0                        4                        1  29.1250  \n",
       "17    male  23.0                        0                        0  13.0000  \n",
       "18  female  31.0                        1                        0  18.0000  \n",
       "19  female  22.0                        0                        0   7.2250  "
      ]
     },
     "execution_count": 3,
     "metadata": {},
     "output_type": "execute_result"
    }
   ],
   "source": [
    "head = data[:20]\n",
    "head"
   ]
  },
  {
   "cell_type": "markdown",
   "id": "6869f3e4",
   "metadata": {},
   "source": [
    "The samples contain some inconsistencies - \"Pclass\", which likely refers to the class of travel, is inconsistently defined, and will need to be addressed. \n",
    "Some passengers do not have their sex recorded, so the NaNs will need to be handled correctly.\n",
    "At least one passenger has a negative age recorded, which is an error and will need to be handled correctly.\n"
   ]
  },
  {
   "cell_type": "code",
   "execution_count": 4,
   "id": "4ea77b4a",
   "metadata": {},
   "outputs": [
    {
     "name": "stdout",
     "output_type": "stream",
     "text": [
      "len(data) =  887\n",
      "data.shape =  (887, 8)\n"
     ]
    }
   ],
   "source": [
    "# let's check the size of the data:\n",
    "print(\"len(data) = \", len(data))\n",
    "print(\"data.shape = \", data.shape)"
   ]
  },
  {
   "cell_type": "markdown",
   "id": "812240b4",
   "metadata": {},
   "source": [
    "### Let's start to address a few of the inconsistencies, starting with the ages"
   ]
  },
  {
   "cell_type": "code",
   "execution_count": 5,
   "id": "11afead5",
   "metadata": {},
   "outputs": [
    {
     "name": "stdout",
     "output_type": "stream",
     "text": [
      "The max age recorded is: 240.0\n",
      "Number of passengers with negative age: 12\n",
      "Number of passengers with ages > 110: 12\n",
      "Number of passengers with missing age:  0\n"
     ]
    }
   ],
   "source": [
    "print('The max age recorded is:',\n",
    "      (data['Age'].max() ))\n",
    "print('Number of passengers with negative age:',\n",
    "      (data['Age'] < 0).sum() )\n",
    "print('Number of passengers with ages > 110:',\n",
    "      (data['Age'] > 110).sum() )\n",
    "print('Number of passengers with missing age: ',\n",
    "      data['Age'].isnull().sum() )"
   ]
  },
  {
   "cell_type": "markdown",
   "id": "52be5ff1",
   "metadata": {},
   "source": [
    "The maximum age recoded is 240, which indicates that there are a few incorrectly recorded ages. 12 passengers out of 887 have negative age, and another 12 have an age greater than 110 which is probably an error. Let's remove them (we could also fill the columns with mean or median values or something similar, but as this is a small number of datapoints it doesn't cost too much to remove them, and we avoid the worry of filling them incorrectly.)"
   ]
  },
  {
   "cell_type": "code",
   "execution_count": 6,
   "id": "f3447fd8",
   "metadata": {},
   "outputs": [
    {
     "name": "stdout",
     "output_type": "stream",
     "text": [
      "len(data) =  863\n",
      "data.shape =  (863, 8)\n"
     ]
    }
   ],
   "source": [
    "data = data[data.Age > 0]\n",
    "data = data[data.Age < 110]\n",
    "print(\"len(data) = \", len(data))\n",
    "print(\"data.shape = \", data.shape)"
   ]
  },
  {
   "cell_type": "markdown",
   "id": "956e4862",
   "metadata": {},
   "source": [
    "### Let's check the entries in the 'Sex' column:"
   ]
  },
  {
   "cell_type": "code",
   "execution_count": 7,
   "id": "a1f288b2",
   "metadata": {},
   "outputs": [
    {
     "name": "stdout",
     "output_type": "stream",
     "text": [
      "Number of passengers with missing sex:  13\n",
      "Number of passengers with sex recorded as male or female:  850\n"
     ]
    }
   ],
   "source": [
    "print('Number of passengers with missing sex: ',\n",
    "      data['Sex'].isnull().sum() )\n",
    "print('Number of passengers with sex recorded as male or female: ',\n",
    "     (data['Sex']=='male').sum()+ (data['Sex']=='female').sum())"
   ]
  },
  {
   "cell_type": "markdown",
   "id": "6cb42f58",
   "metadata": {},
   "source": [
    "The sum of entries with 'male', 'female', and missing values is equal to the total number of rows, so there are no curveball entries in this category. However, there are a few candidates whose 'Sex' is not recorded. Let's see if we can infer the values that are missing."
   ]
  },
  {
   "cell_type": "code",
   "execution_count": 8,
   "id": "fec6d2c2",
   "metadata": {},
   "outputs": [
    {
     "data": {
      "text/plain": [
       "3         Mrs. Jacques Heath (Lily May Peel) Futrelle\n",
       "15                     Mrs. (Mary D Kingcome) Hewlett\n",
       "89                                Mr. Emil Christmann\n",
       "265                           Mr. Ernst Ulrik Persson\n",
       "281                         Mr. Edward Arthur Dorking\n",
       "298                        Miss. Anna Katherine Kelly\n",
       "363                     Mr. Mauritz Nils Martin Adahl\n",
       "401                     Mr. Pekka Pietari Hakkarainen\n",
       "491                         Mr. Edward Roland Stanley\n",
       "495    Mrs. Hudson J C (Bessie Waldo Daniels) Allison\n",
       "501                              Miss. Roberta Maioni\n",
       "526                        Mr. Richard George Hocking\n",
       "664                         Mr. Knud Paust Rommetvedt\n",
       "Name: Name, dtype: object"
      ]
     },
     "execution_count": 8,
     "metadata": {},
     "output_type": "execute_result"
    }
   ],
   "source": [
    "# let's look at the passengers with no 'Sex' recorded:\n",
    "\n",
    "data.loc[data['Sex'].isnull(), 'Name']"
   ]
  },
  {
   "cell_type": "code",
   "execution_count": 9,
   "id": "83ba86b9",
   "metadata": {},
   "outputs": [],
   "source": [
    "# we can fill the missing values for 'Sex' by checking whether the Name entry features 'Mr', 'Miss', or 'Mrs' \n",
    "# - this will give us a good approximation\n",
    "\n",
    "import numpy as np\n",
    "\n",
    "data.loc[data['Name'].str.contains('Mrs.'), 'Sex'] = \"female\"\n",
    "data.loc[data['Name'].str.contains('Miss.'), 'Sex'] = \"female\"\n",
    "data.loc[data['Name'].str.contains('Mr.'), 'Sex'] = \"male\""
   ]
  },
  {
   "cell_type": "code",
   "execution_count": 10,
   "id": "a26309c9",
   "metadata": {},
   "outputs": [
    {
     "data": {
      "text/plain": [
       "Series([], Name: Name, dtype: object)"
      ]
     },
     "execution_count": 10,
     "metadata": {},
     "output_type": "execute_result"
    }
   ],
   "source": [
    "# check that it worked:\n",
    "\n",
    "data.loc[data['Sex'].isnull(), 'Name']"
   ]
  },
  {
   "cell_type": "markdown",
   "id": "e9d3ad58",
   "metadata": {},
   "source": [
    "### Let's do something similar for the Pclass, and make them uniform:"
   ]
  },
  {
   "cell_type": "code",
   "execution_count": 11,
   "id": "40e84872",
   "metadata": {},
   "outputs": [],
   "source": [
    "data.loc[data['Pclass'].str.contains('1'), 'Pclass'] = '1'\n",
    "data.loc[data['Pclass'].str.contains('2'), 'Pclass'] = '2'\n",
    "data.loc[data['Pclass'].str.contains('3'), 'Pclass'] = '3'"
   ]
  },
  {
   "cell_type": "markdown",
   "id": "6f91aad8",
   "metadata": {},
   "source": [
    "### Next, let's use similar techniques to investigate if siblings/spouses aboard and parents/children aboard have negative or missing values:"
   ]
  },
  {
   "cell_type": "code",
   "execution_count": 12,
   "id": "6f408cfc",
   "metadata": {},
   "outputs": [
    {
     "name": "stdout",
     "output_type": "stream",
     "text": [
      "Number of passengers with negative Siblings/Spouses Aboard: 11\n",
      "Number of passengers with missing Siblings/Spouses Aboard:  0\n",
      "Number of passengers with negative Parents/Children Aboard: 12\n",
      "Number of passengers with missing Parents/Children Aboard:  0\n"
     ]
    }
   ],
   "source": [
    "print('Number of passengers with negative Siblings/Spouses Aboard:',\n",
    "      (data['Siblings/Spouses Aboard'] < 0).sum() )\n",
    "print('Number of passengers with missing Siblings/Spouses Aboard: ',\n",
    "      data['Siblings/Spouses Aboard'].isnull().sum() )\n",
    "print('Number of passengers with negative Parents/Children Aboard:',\n",
    "      (data['Parents/Children Aboard'] < 0).sum() )\n",
    "print('Number of passengers with missing Parents/Children Aboard: ',\n",
    "      data['Parents/Children Aboard'].isnull().sum() )"
   ]
  },
  {
   "cell_type": "markdown",
   "id": "e1b93355",
   "metadata": {},
   "source": [
    "No missing values, but again a few points with negative values. Let's have a look at the data behaviour:"
   ]
  },
  {
   "cell_type": "code",
   "execution_count": 13,
   "id": "c23876f0",
   "metadata": {},
   "outputs": [
    {
     "data": {
      "image/png": "[encoded data removed]",
      "text/plain": [
       "<Figure size 432x288 with 2 Axes>"
      ]
     },
     "metadata": {
      "needs_background": "light"
     },
     "output_type": "display_data"
    }
   ],
   "source": [
    "import matplotlib.pyplot as plt\n",
    "\n",
    "plt.scatter(data['Parents/Children Aboard'],\n",
    "            data['Siblings/Spouses Aboard'],\n",
    "            c=data['Survived'], # maps different colors depending on whether a person survived\n",
    "            s=2, # change the marker size\n",
    "            cmap='bwr') # select colormap\n",
    "plt.gca().update(dict(xlabel='Parents/Children Aboard', ylabel='Siblings/Spouses Aboard'));\n",
    "plt.colorbar();"
   ]
  },
  {
   "cell_type": "markdown",
   "id": "1cdc06ac",
   "metadata": {},
   "source": [
    "It looks like the behaviour is similar across positive and negative values, so I'll assume that the negative was an error and replace those entries with their absolute values. We could also remove those entries completely."
   ]
  },
  {
   "cell_type": "code",
   "execution_count": 14,
   "id": "186f07fe",
   "metadata": {},
   "outputs": [],
   "source": [
    "data['Parents/Children Aboard'] = data['Parents/Children Aboard'].abs()\n",
    "data['Siblings/Spouses Aboard'] = data['Siblings/Spouses Aboard'].abs()"
   ]
  },
  {
   "cell_type": "markdown",
   "id": "d875dcff",
   "metadata": {},
   "source": [
    "### Lastly, let's investigate the Fares"
   ]
  },
  {
   "cell_type": "code",
   "execution_count": 15,
   "id": "7ff34c8d",
   "metadata": {},
   "outputs": [
    {
     "name": "stdout",
     "output_type": "stream",
     "text": [
      "The max Fare recorded is: 800069.55\n",
      "The median Fare recorded is: 14.5\n"
     ]
    }
   ],
   "source": [
    "print('The max Fare recorded is:',\n",
    "      (data['Fare'].max() ))\n",
    "print('The median Fare recorded is:',\n",
    "      (data['Fare'].median() ))"
   ]
  },
  {
   "cell_type": "code",
   "execution_count": 16,
   "id": "a5e1fc48",
   "metadata": {},
   "outputs": [
    {
     "data": {
      "image/png": "[encoded data removed]",
      "text/plain": [
       "<Figure size 432x288 with 1 Axes>"
      ]
     },
     "metadata": {
      "needs_background": "light"
     },
     "output_type": "display_data"
    }
   ],
   "source": [
    "#It seems there's an outlier in the fares - let's look at the distribution\n",
    "fares = data[\"Fare\"]\n",
    "\n",
    "plt.show()\n",
    "plt.hist(fares,bins=np.arange(1001));"
   ]
  },
  {
   "cell_type": "markdown",
   "id": "8dd897ac",
   "metadata": {},
   "source": [
    "The entry recorded as 800069.55 is most likely an error. I'll remove anything above 600."
   ]
  },
  {
   "cell_type": "code",
   "execution_count": 17,
   "id": "b899d9dd",
   "metadata": {},
   "outputs": [],
   "source": [
    "data = data[data.Fare < 600]"
   ]
  },
  {
   "cell_type": "markdown",
   "id": "b147537d",
   "metadata": {},
   "source": [
    "### A last check that everything looks good:"
   ]
  },
  {
   "cell_type": "code",
   "execution_count": 18,
   "id": "5805769f",
   "metadata": {},
   "outputs": [],
   "source": [
    "data['Pclass'] = data['Pclass'].astype(int)\n",
    "data['Age'] = data['Age'].astype(int)"
   ]
  },
  {
   "cell_type": "code",
   "execution_count": 19,
   "id": "f926b4ad",
   "metadata": {},
   "outputs": [
    {
     "data": {
      "text/html": [
       "<div>\n",
       "<style scoped>\n",
       "    .dataframe tbody tr th:only-of-type {\n",
       "        vertical-align: middle;\n",
       "    }\n",
       "\n",
       "    .dataframe tbody tr th {\n",
       "        vertical-align: top;\n",
       "    }\n",
       "\n",
       "    .dataframe thead th {\n",
       "        text-align: right;\n",
       "    }\n",
       "</style>\n",
       "<table border=\"1\" class=\"dataframe\">\n",
       "  <thead>\n",
       "    <tr style=\"text-align: right;\">\n",
       "      <th></th>\n",
       "      <th>Survived</th>\n",
       "      <th>Pclass</th>\n",
       "      <th>Name</th>\n",
       "      <th>Sex</th>\n",
       "      <th>Age</th>\n",
       "      <th>Siblings/Spouses Aboard</th>\n",
       "      <th>Parents/Children Aboard</th>\n",
       "      <th>Fare</th>\n",
       "    </tr>\n",
       "  </thead>\n",
       "  <tbody>\n",
       "    <tr>\n",
       "      <th>0</th>\n",
       "      <td>0</td>\n",
       "      <td>3</td>\n",
       "      <td>Mr. Owen Harris Braund</td>\n",
       "      <td>male</td>\n",
       "      <td>22</td>\n",
       "      <td>1</td>\n",
       "      <td>0</td>\n",
       "      <td>7.2500</td>\n",
       "    </tr>\n",
       "    <tr>\n",
       "      <th>1</th>\n",
       "      <td>1</td>\n",
       "      <td>1</td>\n",
       "      <td>Mrs. John Bradley (Florence Briggs Thayer) Cum...</td>\n",
       "      <td>male</td>\n",
       "      <td>38</td>\n",
       "      <td>1</td>\n",
       "      <td>0</td>\n",
       "      <td>71.2833</td>\n",
       "    </tr>\n",
       "    <tr>\n",
       "      <th>2</th>\n",
       "      <td>1</td>\n",
       "      <td>3</td>\n",
       "      <td>Miss. Laina Heikkinen</td>\n",
       "      <td>female</td>\n",
       "      <td>26</td>\n",
       "      <td>0</td>\n",
       "      <td>0</td>\n",
       "      <td>7.9250</td>\n",
       "    </tr>\n",
       "    <tr>\n",
       "      <th>3</th>\n",
       "      <td>1</td>\n",
       "      <td>1</td>\n",
       "      <td>Mrs. Jacques Heath (Lily May Peel) Futrelle</td>\n",
       "      <td>male</td>\n",
       "      <td>35</td>\n",
       "      <td>1</td>\n",
       "      <td>0</td>\n",
       "      <td>53.1000</td>\n",
       "    </tr>\n",
       "    <tr>\n",
       "      <th>4</th>\n",
       "      <td>0</td>\n",
       "      <td>3</td>\n",
       "      <td>Mr. William Henry Allen</td>\n",
       "      <td>male</td>\n",
       "      <td>35</td>\n",
       "      <td>0</td>\n",
       "      <td>0</td>\n",
       "      <td>8.0500</td>\n",
       "    </tr>\n",
       "    <tr>\n",
       "      <th>5</th>\n",
       "      <td>0</td>\n",
       "      <td>3</td>\n",
       "      <td>Mr. James Moran</td>\n",
       "      <td>male</td>\n",
       "      <td>27</td>\n",
       "      <td>0</td>\n",
       "      <td>0</td>\n",
       "      <td>8.4583</td>\n",
       "    </tr>\n",
       "    <tr>\n",
       "      <th>6</th>\n",
       "      <td>0</td>\n",
       "      <td>1</td>\n",
       "      <td>Mr. Timothy J McCarthy</td>\n",
       "      <td>male</td>\n",
       "      <td>54</td>\n",
       "      <td>0</td>\n",
       "      <td>0</td>\n",
       "      <td>51.8625</td>\n",
       "    </tr>\n",
       "    <tr>\n",
       "      <th>7</th>\n",
       "      <td>0</td>\n",
       "      <td>3</td>\n",
       "      <td>Master. Gosta Leonard Palsson</td>\n",
       "      <td>male</td>\n",
       "      <td>2</td>\n",
       "      <td>3</td>\n",
       "      <td>1</td>\n",
       "      <td>21.0750</td>\n",
       "    </tr>\n",
       "    <tr>\n",
       "      <th>8</th>\n",
       "      <td>1</td>\n",
       "      <td>3</td>\n",
       "      <td>Mrs. Oscar W (Elisabeth Vilhelmina Berg) Johnson</td>\n",
       "      <td>male</td>\n",
       "      <td>27</td>\n",
       "      <td>0</td>\n",
       "      <td>2</td>\n",
       "      <td>11.1333</td>\n",
       "    </tr>\n",
       "    <tr>\n",
       "      <th>9</th>\n",
       "      <td>1</td>\n",
       "      <td>2</td>\n",
       "      <td>Mrs. Nicholas (Adele Achem) Nasser</td>\n",
       "      <td>male</td>\n",
       "      <td>14</td>\n",
       "      <td>1</td>\n",
       "      <td>0</td>\n",
       "      <td>30.0708</td>\n",
       "    </tr>\n",
       "  </tbody>\n",
       "</table>\n",
       "</div>"
      ],
      "text/plain": [
       "   Survived  Pclass                                               Name  \\\n",
       "0         0       3                             Mr. Owen Harris Braund   \n",
       "1         1       1  Mrs. John Bradley (Florence Briggs Thayer) Cum...   \n",
       "2         1       3                              Miss. Laina Heikkinen   \n",
       "3         1       1        Mrs. Jacques Heath (Lily May Peel) Futrelle   \n",
       "4         0       3                            Mr. William Henry Allen   \n",
       "5         0       3                                    Mr. James Moran   \n",
       "6         0       1                             Mr. Timothy J McCarthy   \n",
       "7         0       3                      Master. Gosta Leonard Palsson   \n",
       "8         1       3   Mrs. Oscar W (Elisabeth Vilhelmina Berg) Johnson   \n",
       "9         1       2                 Mrs. Nicholas (Adele Achem) Nasser   \n",
       "\n",
       "      Sex  Age  Siblings/Spouses Aboard  Parents/Children Aboard     Fare  \n",
       "0    male   22                        1                        0   7.2500  \n",
       "1    male   38                        1                        0  71.2833  \n",
       "2  female   26                        0                        0   7.9250  \n",
       "3    male   35                        1                        0  53.1000  \n",
       "4    male   35                        0                        0   8.0500  \n",
       "5    male   27                        0                        0   8.4583  \n",
       "6    male   54                        0                        0  51.8625  \n",
       "7    male    2                        3                        1  21.0750  \n",
       "8    male   27                        0                        2  11.1333  \n",
       "9    male   14                        1                        0  30.0708  "
      ]
     },
     "execution_count": 19,
     "metadata": {},
     "output_type": "execute_result"
    }
   ],
   "source": [
    "head = data[:10]\n",
    "head"
   ]
  },
  {
   "cell_type": "code",
   "execution_count": 20,
   "id": "257563b7",
   "metadata": {},
   "outputs": [
    {
     "name": "stdout",
     "output_type": "stream",
     "text": [
      "len(data) =  848\n",
      "data.shape =  (848, 8)\n"
     ]
    }
   ],
   "source": [
    "print(\"len(data) = \", len(data))\n",
    "print(\"data.shape = \", data.shape)"
   ]
  },
  {
   "cell_type": "markdown",
   "id": "193453ee",
   "metadata": {},
   "source": [
    "# Data visualisation"
   ]
  },
  {
   "cell_type": "markdown",
   "id": "61bb2361",
   "metadata": {},
   "source": [
    "Let's visualise the data to get a better understanding"
   ]
  },
  {
   "cell_type": "code",
   "execution_count": 21,
   "id": "1040206c",
   "metadata": {},
   "outputs": [
    {
     "data": {
      "image/png": "[encoded data removed]",
      "text/plain": [
       "<Figure size 432x288 with 2 Axes>"
      ]
     },
     "metadata": {
      "needs_background": "light"
     },
     "output_type": "display_data"
    }
   ],
   "source": [
    "# survived is displayed in red, and did not survive in blue\n",
    "\n",
    "\n",
    "plt.scatter(data['Age'],\n",
    "            np.log1p(data['Fare']),\n",
    "            c=data['Survived'], # maps different colors depending on whether a person survived\n",
    "            s=2, # change the marker size\n",
    "            cmap='bwr') # select colormap\n",
    "plt.gca().update(dict(xlabel='Age', ylabel='Fare'));\n",
    "plt.colorbar();"
   ]
  },
  {
   "cell_type": "markdown",
   "id": "ee875bb0",
   "metadata": {},
   "source": [
    "A trend for younger passengers and higher fares leading to better survival seems to be evident at a glance from this plot, where the upper left corner appears to be more densely populated with red dots than the lower right."
   ]
  },
  {
   "cell_type": "code",
   "execution_count": 22,
   "id": "9e4f17e8",
   "metadata": {},
   "outputs": [
    {
     "data": {
      "image/png": "[encoded data removed]",
      "text/plain": [
       "<Figure size 432x288 with 2 Axes>"
      ]
     },
     "metadata": {
      "needs_background": "light"
     },
     "output_type": "display_data"
    }
   ],
   "source": [
    "# Let's compare passenger class and fare\n",
    "\n",
    "plt.scatter(data['Pclass'],\n",
    "            np.log1p(data['Fare']),\n",
    "            c=data['Survived'], # maps different colors depending on whether a person survived\n",
    "            s=2, # change the marker size\n",
    "            cmap='bwr') # select colormap\n",
    "plt.gca().update(dict(xlabel='Pclass', ylabel='Fare'));\n",
    "plt.colorbar();"
   ]
  },
  {
   "cell_type": "markdown",
   "id": "48eb894f",
   "metadata": {},
   "source": [
    "There seem to have been a large spread in fares, but it appears that passengers in first class were more likely to survive, and that the trend in fares is generally as expected, with first class being the most expensive."
   ]
  },
  {
   "cell_type": "code",
   "execution_count": 23,
   "id": "e40cf1e9",
   "metadata": {},
   "outputs": [
    {
     "data": {
      "image/png": "[encoded data removed]",
      "text/plain": [
       "<Figure size 432x288 with 2 Axes>"
      ]
     },
     "metadata": {
      "needs_background": "light"
     },
     "output_type": "display_data"
    }
   ],
   "source": [
    "# Let's compare passenger class and age\n",
    "\n",
    "plt.scatter(data['Pclass'],\n",
    "            data['Age'],\n",
    "            c=data['Survived'], # maps different colors depending on whether a person survived\n",
    "            s=2, # change the marker size\n",
    "            cmap='bwr') # select colormap\n",
    "plt.gca().update(dict(xlabel='Pclass', ylabel='Age'));\n",
    "plt.colorbar();"
   ]
  },
  {
   "cell_type": "markdown",
   "id": "6b4b7483",
   "metadata": {},
   "source": [
    "It's clear again that first class passengers are more likely to survive than third. Younger passengers in first class also have an excellent survival rate, as we can imagine children and babies were given priority on lifeboats. The same is true of younger passengers in second class."
   ]
  },
  {
   "cell_type": "markdown",
   "id": "334bb7d8",
   "metadata": {},
   "source": [
    "# Correlations"
   ]
  },
  {
   "cell_type": "markdown",
   "id": "107c9432",
   "metadata": {},
   "source": [
    "Let's check the correlations between the features in the dataset"
   ]
  },
  {
   "cell_type": "code",
   "execution_count": 24,
   "id": "16a35b40",
   "metadata": {},
   "outputs": [
    {
     "name": "stdout",
     "output_type": "stream",
     "text": [
      "                         Survived    Pclass       Age  \\\n",
      "Survived                 1.000000 -0.345230 -0.068006   \n",
      "Pclass                  -0.345230  1.000000 -0.388808   \n",
      "Age                     -0.068006 -0.388808  1.000000   \n",
      "Siblings/Spouses Aboard -0.027890  0.074316 -0.284343   \n",
      "Parents/Children Aboard  0.098548  0.013686 -0.195138   \n",
      "Fare                     0.258839 -0.557676  0.117881   \n",
      "\n",
      "                         Siblings/Spouses Aboard  Parents/Children Aboard  \\\n",
      "Survived                               -0.027890                 0.098548   \n",
      "Pclass                                  0.074316                 0.013686   \n",
      "Age                                    -0.284343                -0.195138   \n",
      "Siblings/Spouses Aboard                 1.000000                 0.412377   \n",
      "Parents/Children Aboard                 0.412377                 1.000000   \n",
      "Fare                                    0.157772                 0.214887   \n",
      "\n",
      "                             Fare  \n",
      "Survived                 0.258839  \n",
      "Pclass                  -0.557676  \n",
      "Age                      0.117881  \n",
      "Siblings/Spouses Aboard  0.157772  \n",
      "Parents/Children Aboard  0.214887  \n",
      "Fare                     1.000000  \n"
     ]
    }
   ],
   "source": [
    "correlation_df = data.corr()\n",
    "print(correlation_df)"
   ]
  },
  {
   "cell_type": "markdown",
   "id": "b9625235",
   "metadata": {},
   "source": [
    "The closer to 1(-1), the stronger the positive(negative) correlation for two variables. A value close to 0 indicates minimal correlation. The largest correlations visible are 'Parents/Children Aboard' and 'Siblings/Spouses Aboard', which are positively correlated. We can understand this by as relating families on board. \n",
    "\n",
    "A negative correlation is also evident between Passenger class and Age. This is visible from the final plot in the previous section; younger people are more likely to be in 3rd class, and older people more likely in first. \n",
    "\n",
    "There is a strong negative correlation between fare and passenger class: the higher the fare, the closer to first class the passenger is likely to be.\n",
    "\n",
    "Correlated variables do not necessarily degrade machine learning performance, but they should be handled with care for interpretability and stability. In the following, we will play with removing the most correlated variables to improve performance of a simple algorithm.\n"
   ]
  },
  {
   "cell_type": "markdown",
   "id": "8b316ec3",
   "metadata": {},
   "source": [
    "# Machine learning / analysis of feature impact on survival"
   ]
  },
  {
   "cell_type": "markdown",
   "id": "e4581195",
   "metadata": {},
   "source": [
    "Let's use a simple k nearest neighbours algorithm to make some predictions using the data"
   ]
  },
  {
   "cell_type": "code",
   "execution_count": 25,
   "id": "a32ddcdc",
   "metadata": {},
   "outputs": [
    {
     "name": "stdout",
     "output_type": "stream",
     "text": [
      "Test accuracy: 0.75\n"
     ]
    }
   ],
   "source": [
    "from sklearn.neighbors import KNeighborsClassifier\n",
    "from sklearn.metrics import accuracy_score\n",
    "\n",
    "#removing the fare, age, and siblings/spouses features:\n",
    "features = data[['Parents/Children Aboard', 'Pclass']].copy()\n",
    "\n",
    "# the 'Sex' feature is a string. We need to convert it to a numeric representation:\n",
    "onehot = pd.get_dummies(data['Sex'], prefix='Sex')\n",
    "features = features.join(onehot)\n",
    "\n",
    "answers = data[\"Survived\"]\n",
    "\n",
    "model = KNeighborsClassifier(n_neighbors=6)\n",
    "model.fit(features[100:], answers[100:])\n",
    "\n",
    "test_predictions = model.predict(features[:100])\n",
    "print(\"Test accuracy:\", accuracy_score(answers[:100], test_predictions))"
   ]
  },
  {
   "cell_type": "markdown",
   "id": "9ab8bad4",
   "metadata": {},
   "source": [
    "We can achieve reasonable accuracy removing the correlated variables and using a very basic ML toolkit from sklearn. Lastly, let's assess the impact of fare on survival probability by using a quantile-based discretisation function, which uses percentiles based on distribution:"
   ]
  },
  {
   "cell_type": "code",
   "execution_count": 27,
   "id": "7dc2414c",
   "metadata": {},
   "outputs": [
    {
     "data": {
      "image/png": "[encoded data removed]",
      "text/plain": [
       "<Figure size 864x504 with 1 Axes>"
      ]
     },
     "metadata": {
      "needs_background": "light"
     },
     "output_type": "display_data"
    }
   ],
   "source": [
    "from matplotlib.ticker import ScalarFormatter\n",
    "\n",
    "data['qFare'] = pd.qcut(data.Fare, 20, duplicates='drop')\n",
    "\n",
    "sur_vs_price = data.groupby('qFare').Survived.mean()\n",
    "sur_vs_price_e = data.groupby('qFare').Survived.std() \\\n",
    "                        / data.groupby('qFare').Survived.count()**0.5\n",
    "\n",
    "fig = plt.figure(figsize=(12, 7))\n",
    "plt.errorbar(x=sur_vs_price.index.categories.mid,\n",
    "             y=sur_vs_price.values,\n",
    "             yerr=sur_vs_price_e.values,\n",
    "             xerr=(\n",
    "                 pd.IntervalIndex(sur_vs_price.index).right - \n",
    "                 pd.IntervalIndex(sur_vs_price.index).left\n",
    "               ) / 2,\n",
    "             fmt='x')\n",
    "plt.gca().set_xscale('log')\n",
    "plt.gca().xaxis.set_major_formatter(ScalarFormatter())\n",
    "plt.gca().set_xticks(\n",
    "              list(range(3, 10)) +\n",
    "              list(range(10, 100, 10)) +\n",
    "              list(range(100, 700, 100))\n",
    "            )\n",
    "\n",
    "plt.xlabel('Fare')\n",
    "plt.ylabel('Survival probability');"
   ]
  },
  {
   "cell_type": "markdown",
   "id": "5a49a390",
   "metadata": {},
   "source": [
    "A clear trend is visible, where higher fares lead to a more likely survival."
   ]
  },
  {
   "cell_type": "code",
   "execution_count": null,
   "id": "aaac0c2a",
   "metadata": {},
   "outputs": [],
   "source": []
  }
 ],
 "metadata": {
  "kernelspec": {
   "display_name": "Python 3",
   "language": "python",
   "name": "python3"
  },
  "language_info": {
   "codemirror_mode": {
    "name": "ipython",
    "version": 3
   },
   "file_extension": ".py",
   "mimetype": "text/x-python",
   "name": "python",
   "nbconvert_exporter": "python",
   "pygments_lexer": "ipython3",
   "version": "3.9.1"
  }
 },
 "nbformat": 4,
 "nbformat_minor": 5
}
